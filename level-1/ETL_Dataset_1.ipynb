{
 "cells": [
  {
   "cell_type": "code",
   "execution_count": 1,
   "metadata": {
    "colab": {},
    "colab_type": "code",
    "id": "Y6pz7LGh_L1p"
   },
   "outputs": [],
   "source": [
    "# Install Java, Spark, and Findspark\n",
    "!apt-get install openjdk-11-jdk-headless -qq > /dev/null\n",
    "!wget -q http://www-us.apache.org/dist/spark/spark-3.0.0/spark-3.0.0-bin-hadoop3.2.tgz\n",
    "!tar xf spark-3.0.0-bin-hadoop3.2.tgz\n",
    "!pip install -q findspark\n",
    "\n",
    "# Set Environment Variables\n",
    "import os\n",
    "os.environ[\"JAVA_HOME\"] = \"/usr/lib/jvm/java-11-openjdk-amd64\"\n",
    "os.environ[\"SPARK_HOME\"] = \"/content/spark-3.0.0-bin-hadoop3.2\"\n",
    "\n",
    "# Start a SparkSession\n",
    "import findspark\n",
    "findspark.init()"
   ]
  },
  {
   "cell_type": "code",
   "execution_count": 2,
   "metadata": {
    "colab": {
     "base_uri": "https://localhost:8080/",
     "height": 204
    },
    "colab_type": "code",
    "id": "2zn9TcY2TclX",
    "outputId": "511bf428-b35f-4fe8-e952-50d629416eef"
   },
   "outputs": [
    {
     "name": "stdout",
     "output_type": "stream",
     "text": [
      "--2020-08-09 18:07:36--  https://jdbc.postgresql.org/download/postgresql-42.2.9.jar\n",
      "Resolving jdbc.postgresql.org (jdbc.postgresql.org)... 72.32.157.228, 2001:4800:3e1:1::228\n",
      "Connecting to jdbc.postgresql.org (jdbc.postgresql.org)|72.32.157.228|:443... connected.\n",
      "HTTP request sent, awaiting response... 200 OK\n",
      "Length: 914037 (893K) [application/java-archive]\n",
      "Saving to: ‘postgresql-42.2.9.jar’\n",
      "\n",
      "postgresql-42.2.9.j 100%[===================>] 892.61K  4.76MB/s    in 0.2s    \n",
      "\n",
      "2020-08-09 18:07:36 (4.76 MB/s) - ‘postgresql-42.2.9.jar’ saved [914037/914037]\n",
      "\n"
     ]
    }
   ],
   "source": [
    "!wget https://jdbc.postgresql.org/download/postgresql-42.2.9.jar"
   ]
  },
  {
   "cell_type": "code",
   "execution_count": 3,
   "metadata": {
    "colab": {},
    "colab_type": "code",
    "id": "dnBbmIDjTcla"
   },
   "outputs": [],
   "source": [
    "from pyspark.sql import SparkSession\n",
    "spark = SparkSession.builder.appName(\"CloudETL\").config(\"spark.driver.extraClassPath\",\"/content/postgresql-42.2.9.jar\").getOrCreate()"
   ]
  },
  {
   "cell_type": "code",
   "execution_count": 28,
   "metadata": {
    "colab": {
     "base_uri": "https://localhost:8080/",
     "height": 309
    },
    "colab_type": "code",
    "id": "aIGU4Tzs_Q4g",
    "outputId": "d620d8a1-e8bc-48b7-bcb6-e4d7eea09711"
   },
   "outputs": [
    {
     "name": "stdout",
     "output_type": "stream",
     "text": [
      "+-----------+-----------+--------------+----------+--------------+--------------------+----------------+-----------+-------------+-----------+----+-----------------+--------------------+--------------------+-------------------+\n",
      "|marketplace|customer_id|     review_id|product_id|product_parent|       product_title|product_category|star_rating|helpful_votes|total_votes|vine|verified_purchase|     review_headline|         review_body|        review_date|\n",
      "+-----------+-----------+--------------+----------+--------------+--------------------+----------------+-----------+-------------+-----------+----+-----------------+--------------------+--------------------+-------------------+\n",
      "|         US|   37000337|R3DT59XH7HXR9K|B00303FI0G|     529320574|Arthur Court Pape...|         Kitchen|          5|            0|          0|   N|                Y|Beautiful. Looks ...|Beautiful.  Looks...|2015-01-31 00:08:00|\n",
      "|         US|   15272914|R1LFS11BNASSU8|B00JCZKZN6|     274237558|Olde Thompson Bav...|         Kitchen|          5|            0|          1|   N|                Y| Awesome & Self-ness|I personally have...|2015-01-31 00:08:00|\n",
      "|         US|   36137863|R296RT05AG0AF6|B00JLIKA5C|     544675303|Progressive Inter...|         Kitchen|          5|            0|          0|   N|                Y|Fabulous and wort...|Fabulous and wort...|2015-01-31 00:08:00|\n",
      "|         US|   43311049|R3V37XDZ7ZCI3L|B000GBNB8G|     491599489|Zyliss Jumbo Garl...|         Kitchen|          5|            0|          1|   N|                Y|          Five Stars|A must if you lov...|2015-01-31 00:08:00|\n",
      "|         US|   13763148|R14GU232NQFYX2|B00VJ5KX9S|     353790155|1 X Premier Pizza...|         Kitchen|          5|            0|          0|   N|                Y|     Better than sex|Worth every penny...|2015-01-31 00:08:00|\n",
      "|         US|   19009420| RZQH4V7L2O1PL|B00HYB5YY0|     432241873|       CHEF Aluminum|         Kitchen|          1|            1|          1|   N|                Y|Does not work on ...|The description s...|2015-01-31 00:08:00|\n",
      "|         US|   40599388|R1F8JMOSPJ3KO7|B000HEBAV2|     584680984|Presto Dual Profr...|         Kitchen|          5|            0|          0|   N|                Y|Awesome! First fr...|Awesome! First fr...|2015-01-31 00:08:00|\n",
      "|         US|   22719359|R1ZISGY2BWW4Z5|B0012DS4GG|     772637306|Rubbermaid Produc...|         Kitchen|          5|            0|          0|   N|                Y|          Five Stars|Very good item. Q...|2015-01-31 00:08:00|\n",
      "|         US|   47478640|R17PW4I3AE5WZW|B00FLQ4EE6|     755416578|Cuisinart 12-Piec...|         Kitchen|          5|            0|          0|   N|                Y|          Five Stars|sharp and look great|2015-01-31 00:08:00|\n",
      "|         US|   34195504|R3D93G1KTP6A8P|B00DBS9OTG|     648762742|Kegco 6\" Stainles...|         Kitchen|          3|            0|          0|   N|                Y|         Three Stars|Should have come ...|2015-01-31 00:08:00|\n",
      "+-----------+-----------+--------------+----------+--------------+--------------------+----------------+-----------+-------------+-----------+----+-----------------+--------------------+--------------------+-------------------+\n",
      "only showing top 10 rows\n",
      "\n"
     ]
    }
   ],
   "source": [
    "from pyspark import SparkFiles\n",
    "# Load in kitchen reviews from S3 into a DataFrame\n",
    "url = \"https://s3.amazonaws.com/amazon-reviews-pds/tsv/amazon_reviews_us_Kitchen_v1_00.tsv.gz\"\n",
    "spark.sparkContext.addFile(url)\n",
    "\n",
    "kitchen_df = spark.read.option(\"header\", \"true\").csv(SparkFiles.get(\"amazon_reviews_us_Kitchen_v1_00.tsv.gz\"), inferSchema=True, sep=\"\\t\", timestampFormat=\"yyyy-mm-dd\")\n",
    "\n",
    "kitchen_df.show(10)"
   ]
  },
  {
   "cell_type": "markdown",
   "metadata": {
    "colab_type": "text",
    "id": "kdtKPZ1w_V3e"
   },
   "source": [
    "## Drop duplicates and incomplete rows"
   ]
  },
  {
   "cell_type": "code",
   "execution_count": 29,
   "metadata": {
    "colab": {
     "base_uri": "https://localhost:8080/",
     "height": 68
    },
    "colab_type": "code",
    "id": "10qoqQv3_Y_w",
    "outputId": "238bf804-72f3-413f-f950-f9d042b8dafb"
   },
   "outputs": [
    {
     "name": "stdout",
     "output_type": "stream",
     "text": [
      "Initial number of records: 4880466\n",
      "Number of records after removing nulls: 4879961\n",
      "Final number of records: 4879961\n"
     ]
    }
   ],
   "source": [
    "print(f\"Initial number of records: {kitchen_df.count()}\")\n",
    "kitchen_df = kitchen_df.dropna()\n",
    "print(f\"Number of records after removing nulls: {kitchen_df.count()}\")\n",
    "kitchen_df = kitchen_df.dropDuplicates()\n",
    "print(f\"Final number of records: {kitchen_df.count()}\")"
   ]
  },
  {
   "cell_type": "markdown",
   "metadata": {
    "colab_type": "text",
    "id": "GAgvBYkG_awE"
   },
   "source": [
    "## Examine the schema"
   ]
  },
  {
   "cell_type": "code",
   "execution_count": 6,
   "metadata": {
    "colab": {
     "base_uri": "https://localhost:8080/",
     "height": 306
    },
    "colab_type": "code",
    "id": "SXtPi-Hw_dCe",
    "outputId": "6596c20f-8bc9-4e78-cf46-7feca961eb4c"
   },
   "outputs": [
    {
     "name": "stdout",
     "output_type": "stream",
     "text": [
      "root\n",
      " |-- marketplace: string (nullable = true)\n",
      " |-- customer_id: integer (nullable = true)\n",
      " |-- review_id: string (nullable = true)\n",
      " |-- product_id: string (nullable = true)\n",
      " |-- product_parent: integer (nullable = true)\n",
      " |-- product_title: string (nullable = true)\n",
      " |-- product_category: string (nullable = true)\n",
      " |-- star_rating: integer (nullable = true)\n",
      " |-- helpful_votes: integer (nullable = true)\n",
      " |-- total_votes: integer (nullable = true)\n",
      " |-- vine: string (nullable = true)\n",
      " |-- verified_purchase: string (nullable = true)\n",
      " |-- review_headline: string (nullable = true)\n",
      " |-- review_body: string (nullable = true)\n",
      " |-- review_date: timestamp (nullable = true)\n",
      "\n"
     ]
    }
   ],
   "source": [
    "kitchen_df.printSchema()"
   ]
  },
  {
   "cell_type": "markdown",
   "metadata": {
    "colab_type": "text",
    "id": "klopnaUE_eZV"
   },
   "source": [
    "## Create DataFrame to match review_id_table table\n",
    "\n"
   ]
  },
  {
   "cell_type": "code",
   "execution_count": 7,
   "metadata": {
    "colab": {
     "base_uri": "https://localhost:8080/",
     "height": 204
    },
    "colab_type": "code",
    "id": "9b0dvAat_f7L",
    "outputId": "7d97d593-9227-4fd9-92b8-6a5275cede77"
   },
   "outputs": [
    {
     "name": "stdout",
     "output_type": "stream",
     "text": [
      "+--------------+-----------+----------+--------------+-----------+\n",
      "|     review_id|customer_id|product_id|product_parent|review_date|\n",
      "+--------------+-----------+----------+--------------+-----------+\n",
      "|R1TYLPZVR9E1VM|      20696|B002RSO2PW|     609523155| 2014-01-18|\n",
      "|R3DQZTU1JKZBJ3|      23426|B001ULD0BE|     493936758| 2013-01-03|\n",
      "|R3D05QEKX6VBMB|      23527|B004AGYMCW|     136901658| 2014-01-25|\n",
      "|R2MNOL5DIXFCHK|      37605|B002QXOF7I|     109528283| 2014-01-09|\n",
      "|R1NWTTLC4DHVQM|      41593|B000QRAMMS|     468505544| 2013-01-23|\n",
      "+--------------+-----------+----------+--------------+-----------+\n",
      "only showing top 5 rows\n",
      "\n"
     ]
    }
   ],
   "source": [
    "# use to_date to convert timestamp to date\n",
    "from pyspark.sql.functions import to_date\n",
    "\n",
    "review_id_df = kitchen_df.select([\"review_id\", \"customer_id\", \"product_id\", \"product_parent\", \"review_date\"])\n",
    "review_id_df = review_id_df.withColumn(\"review_date\", to_date(\"review_date\"))\n",
    "\n",
    "review_id_df.show(5)"
   ]
  },
  {
   "cell_type": "code",
   "execution_count": 8,
   "metadata": {
    "colab": {
     "base_uri": "https://localhost:8080/",
     "height": 136
    },
    "colab_type": "code",
    "id": "cGHPZXJlpm47",
    "outputId": "f1595c52-a1cb-493a-d95d-17b712a09d04"
   },
   "outputs": [
    {
     "name": "stdout",
     "output_type": "stream",
     "text": [
      "root\n",
      " |-- review_id: string (nullable = true)\n",
      " |-- customer_id: integer (nullable = true)\n",
      " |-- product_id: string (nullable = true)\n",
      " |-- product_parent: integer (nullable = true)\n",
      " |-- review_date: date (nullable = true)\n",
      "\n"
     ]
    }
   ],
   "source": [
    "review_id_df.printSchema()"
   ]
  },
  {
   "cell_type": "markdown",
   "metadata": {
    "colab_type": "text",
    "id": "AbG7CtSA_gfw"
   },
   "source": [
    "## Create DataFrame to match products table"
   ]
  },
  {
   "cell_type": "code",
   "execution_count": 9,
   "metadata": {
    "colab": {
     "base_uri": "https://localhost:8080/",
     "height": 204
    },
    "colab_type": "code",
    "id": "saJ1WiZb_ik6",
    "outputId": "2b9937b0-18ff-4f74-dcbe-83b5807531bf"
   },
   "outputs": [
    {
     "name": "stdout",
     "output_type": "stream",
     "text": [
      "+----------+--------------------+\n",
      "|product_id|       product_title|\n",
      "+----------+--------------------+\n",
      "|B0029SVQ9K|Update Internatio...|\n",
      "|B00COM0AX4|Arctic Chill Sili...|\n",
      "|B003HS1ZTC|Little Snowie Ice...|\n",
      "|B003NQE8B0|Hamilton Beach 59...|\n",
      "|B008YS1YQO|George Foreman Grill|\n",
      "+----------+--------------------+\n",
      "only showing top 5 rows\n",
      "\n"
     ]
    }
   ],
   "source": [
    "# Due to PK constraint unique values have to be selected\n",
    "# Aggregate and drop count column\n",
    "products_df = kitchen_df.groupBy(\"product_id\", \"product_title\").agg({\"product_id\": \"count\"}).select([\"product_id\", \"product_title\"])\n",
    "products_df.show(5)"
   ]
  },
  {
   "cell_type": "code",
   "execution_count": 10,
   "metadata": {
    "colab": {
     "base_uri": "https://localhost:8080/",
     "height": 85
    },
    "colab_type": "code",
    "id": "mZSow2aziqtx",
    "outputId": "16893626-5198-4dbf-b087-7bbbcbaeb2e2"
   },
   "outputs": [
    {
     "name": "stdout",
     "output_type": "stream",
     "text": [
      "root\n",
      " |-- product_id: string (nullable = true)\n",
      " |-- product_title: string (nullable = true)\n",
      "\n"
     ]
    }
   ],
   "source": [
    "products_df.printSchema()"
   ]
  },
  {
   "cell_type": "markdown",
   "metadata": {
    "colab_type": "text",
    "id": "vWDzrpYpmfqL"
   },
   "source": [
    "## Create DataFrame to match customers table"
   ]
  },
  {
   "cell_type": "code",
   "execution_count": 18,
   "metadata": {
    "colab": {
     "base_uri": "https://localhost:8080/",
     "height": 204
    },
    "colab_type": "code",
    "id": "YB76TY0smqto",
    "outputId": "ade560ac-4d3f-4158-c55d-4e94b71b7a23"
   },
   "outputs": [
    {
     "name": "stdout",
     "output_type": "stream",
     "text": [
      "+-----------+--------------+\n",
      "|customer_id|customer_count|\n",
      "+-----------+--------------+\n",
      "|    1026543|             1|\n",
      "|    1308596|             1|\n",
      "|    1707289|             1|\n",
      "|    2698443|             1|\n",
      "|    2698445|             1|\n",
      "+-----------+--------------+\n",
      "only showing top 5 rows\n",
      "\n"
     ]
    }
   ],
   "source": [
    "from pyspark.sql.types import IntegerType\n",
    "\n",
    "customers_df = kitchen_df.groupBy('customer_id').agg({'review_id': 'count'}) \\\n",
    "                    .withColumnRenamed('count(review_id)', 'customer_count')\n",
    "customers_df = customers_df.withColumn('customer_count', customers_df['customer_count'].cast(IntegerType()))\n",
    "\n",
    "customers_df.show(5)"
   ]
  },
  {
   "cell_type": "code",
   "execution_count": 19,
   "metadata": {
    "colab": {
     "base_uri": "https://localhost:8080/",
     "height": 85
    },
    "colab_type": "code",
    "id": "RjBDljahk-6b",
    "outputId": "f1a79bde-55f4-4a03-f0c5-5de63fd0a2f6"
   },
   "outputs": [
    {
     "name": "stdout",
     "output_type": "stream",
     "text": [
      "root\n",
      " |-- customer_id: integer (nullable = true)\n",
      " |-- customer_count: integer (nullable = false)\n",
      "\n"
     ]
    }
   ],
   "source": [
    "customers_df.printSchema()"
   ]
  },
  {
   "cell_type": "markdown",
   "metadata": {
    "colab_type": "text",
    "id": "0ZnYtEqCmyWV"
   },
   "source": [
    "## Create DataFrame to match vine_table table"
   ]
  },
  {
   "cell_type": "code",
   "execution_count": 21,
   "metadata": {
    "colab": {
     "base_uri": "https://localhost:8080/",
     "height": 204
    },
    "colab_type": "code",
    "id": "_rUL4kX9m7HD",
    "outputId": "afd0bd84-ab52-45f0-d27d-b485f6daae1c"
   },
   "outputs": [
    {
     "name": "stdout",
     "output_type": "stream",
     "text": [
      "+--------------+-----------+-------------+-----------+----+\n",
      "|     review_id|star_rating|helpful_votes|total_votes|vine|\n",
      "+--------------+-----------+-------------+-----------+----+\n",
      "|R1TYLPZVR9E1VM|          5|            0|          0|   N|\n",
      "|R3DQZTU1JKZBJ3|          5|            0|          0|   N|\n",
      "|R3D05QEKX6VBMB|          4|            0|          0|   N|\n",
      "|R2MNOL5DIXFCHK|          5|            0|          0|   N|\n",
      "|R1NWTTLC4DHVQM|          5|            0|          0|   N|\n",
      "+--------------+-----------+-------------+-----------+----+\n",
      "only showing top 5 rows\n",
      "\n"
     ]
    }
   ],
   "source": [
    "vine_df = kitchen_df.select([\"review_id\", \"star_rating\", \"helpful_votes\", \"total_votes\", \"vine\"])\n",
    "vine_df.show(5)"
   ]
  },
  {
   "cell_type": "code",
   "execution_count": 22,
   "metadata": {
    "colab": {
     "base_uri": "https://localhost:8080/",
     "height": 136
    },
    "colab_type": "code",
    "id": "kGM8gFPp0C1L",
    "outputId": "c3afacb4-6ad9-4b60-c413-2da81bd797ac"
   },
   "outputs": [
    {
     "name": "stdout",
     "output_type": "stream",
     "text": [
      "root\n",
      " |-- review_id: string (nullable = true)\n",
      " |-- star_rating: integer (nullable = true)\n",
      " |-- helpful_votes: integer (nullable = true)\n",
      " |-- total_votes: integer (nullable = true)\n",
      " |-- vine: string (nullable = true)\n",
      "\n"
     ]
    }
   ],
   "source": [
    "vine_df.printSchema()"
   ]
  },
  {
   "cell_type": "markdown",
   "metadata": {
    "colab_type": "text",
    "id": "0PDvBiVN_jGe"
   },
   "source": [
    "## Write DataFrames to RDS"
   ]
  },
  {
   "cell_type": "code",
   "execution_count": 23,
   "metadata": {
    "colab": {},
    "colab_type": "code",
    "id": "fOIS3viE_leJ"
   },
   "outputs": [],
   "source": [
    "# Configuration for RDS instance\n",
    "mode=\"append\"\n",
    "jdbc_url = \"jdbc:postgresql://<insert endpoint>:5432/<database-name>\"\n",
    "config = {\"user\":\"<insert user name>\",\n",
    "          \"password\": \"<insert password>\",\n",
    "          \"driver\":\"org.postgresql.Driver\"}\n",
    "          "
   ]
  },
  {
   "cell_type": "code",
   "execution_count": 24,
   "metadata": {
    "colab": {},
    "colab_type": "code",
    "id": "K6_O84CK_nV5"
   },
   "outputs": [],
   "source": [
    "# Write DataFrame to k_review_id_table table in RDS\n",
    "review_id_df.write.jdbc(url=jdbc_url, table='k_review_id_table', mode=mode, properties=config)"
   ]
  },
  {
   "cell_type": "code",
   "execution_count": 25,
   "metadata": {
    "colab": {},
    "colab_type": "code",
    "id": "9Yf9JqYo6NwR"
   },
   "outputs": [],
   "source": [
    "# Write DataFrame to k_products table in RDS\n",
    "products_df.write.jdbc(url=jdbc_url, table='k_products', mode=mode, properties=config)"
   ]
  },
  {
   "cell_type": "code",
   "execution_count": 26,
   "metadata": {
    "colab": {},
    "colab_type": "code",
    "id": "Tvw--Ool_vju"
   },
   "outputs": [],
   "source": [
    "# Write DataFrame to k_customers table in RDS\n",
    "customers_df.write.jdbc(url=jdbc_url, table='k_customers', mode=mode, properties=config)"
   ]
  },
  {
   "cell_type": "code",
   "execution_count": 27,
   "metadata": {
    "colab": {},
    "colab_type": "code",
    "id": "bGFjew7J7Fzu"
   },
   "outputs": [],
   "source": [
    "# Write DataFrame to k_vine_table table in RDS\n",
    "vine_df.write.jdbc(url=jdbc_url, table='k_vine_table', mode=mode, properties=config)"
   ]
  }
 ],
 "metadata": {
  "colab": {
   "collapsed_sections": [],
   "name": "ETL_Dataset_1.ipynb",
   "provenance": []
  },
  "kernelspec": {
   "display_name": "Python 3",
   "language": "python",
   "name": "python3"
  },
  "language_info": {
   "codemirror_mode": {
    "name": "ipython",
    "version": 3
   },
   "file_extension": ".py",
   "mimetype": "text/x-python",
   "name": "python",
   "nbconvert_exporter": "python",
   "pygments_lexer": "ipython3",
   "version": "3.7.7"
  },
  "latex_envs": {
   "LaTeX_envs_menu_present": true,
   "autoclose": false,
   "autocomplete": true,
   "bibliofile": "biblio.bib",
   "cite_by": "apalike",
   "current_citInitial": 1,
   "eqLabelWithNumbers": true,
   "eqNumInitial": 1,
   "hotkeys": {
    "equation": "Ctrl-E",
    "itemize": "Ctrl-I"
   },
   "labels_anchors": false,
   "latex_user_defs": false,
   "report_style_numbering": false,
   "user_envs_cfg": false
  }
 },
 "nbformat": 4,
 "nbformat_minor": 1
}
